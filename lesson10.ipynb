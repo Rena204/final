{
  "nbformat": 4,
  "nbformat_minor": 0,
  "metadata": {
    "colab": {
      "provenance": [],
      "toc_visible": true,
      "name": "lesson10",
      "authorship_tag": "ABX9TyOctMeXera1711Uz6Mibqzk",
      "include_colab_link": true
    },
    "kernelspec": {
      "name": "python3",
      "display_name": "Python 3"
    },
    "language_info": {
      "name": "python"
    }
  },
  "cells": [
    {
      "cell_type": "markdown",
      "metadata": {
        "id": "view-in-github",
        "colab_type": "text"
      },
      "source": [
        "<a href=\"https://colab.research.google.com/github/Rena204/final/blob/main/lesson10.ipynb\" target=\"_parent\"><img src=\"https://colab.research.google.com/assets/colab-badge.svg\" alt=\"Open In Colab\"/></a>"
      ]
    },
    {
      "cell_type": "code",
      "execution_count": null,
      "metadata": {
        "id": "QAz0UsyhyhGD",
        "colab": {
          "base_uri": "https://localhost:8080/"
        },
        "outputId": "986b3970-1382-410c-9782-03e43fe8c4d0"
      },
      "outputs": [
        {
          "output_type": "stream",
          "name": "stdout",
          "text": [
            "  robot human\n",
            "0  True   NaN\n",
            "1   NaN  True\n",
            "2   NaN  True\n",
            "3   NaN  True\n",
            "4   NaN  True\n"
          ]
        }
      ],
      "source": [
        "import random\n",
        "import pandas as pd\n",
        "\n",
        "lst = ['robot'] * 10\n",
        "lst += ['human'] * 10\n",
        "random.shuffle(lst)\n",
        "\n",
        "data = pd.DataFrame().assign(robot=False, human=False)\n",
        "\n",
        "def set_one_hot(row):\n",
        "    if row['IAm'] == 'robot':\n",
        "        row['robot'] = True\n",
        "    elif row['IAm'] == 'human':\n",
        "        row['human'] = True\n",
        "    return row\n",
        "\n",
        "data = data.assign(IAm=lst).apply(set_one_hot, axis=1)\n",
        "data = data.drop(columns=['IAm'])\n",
        "print(data.head())"
      ]
    }
  ]
}